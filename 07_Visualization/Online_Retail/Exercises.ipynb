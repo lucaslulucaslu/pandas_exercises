{
 "cells": [
  {
   "cell_type": "markdown",
   "metadata": {},
   "source": [
    "# Online Retails Purchase"
   ]
  },
  {
   "cell_type": "markdown",
   "metadata": {},
   "source": [
    "### Introduction:\n",
    "\n",
    "\n",
    "\n",
    "### Step 1. Import the necessary libraries"
   ]
  },
  {
   "cell_type": "code",
   "execution_count": 1,
   "metadata": {},
   "outputs": [],
   "source": [
    "import pandas as pd\n",
    "import matplotlib.pyplot as plt\n",
    "import numpy as np"
   ]
  },
  {
   "cell_type": "markdown",
   "metadata": {},
   "source": [
    "### Step 2. Import the dataset from this [address](https://raw.githubusercontent.com/guipsamora/pandas_exercises/master/07_Visualization/Online_Retail/Online_Retail.csv). "
   ]
  },
  {
   "cell_type": "code",
   "execution_count": 2,
   "metadata": {},
   "outputs": [],
   "source": [
    "url=\"https://raw.githubusercontent.com/guipsamora/pandas_exercises/master/07_Visualization/Online_Retail/Online_Retail.csv\""
   ]
  },
  {
   "cell_type": "markdown",
   "metadata": {},
   "source": [
    "### Step 3. Assign it to a variable called online_rt\n",
    "Note: if you receive a utf-8 decode error, set `encoding = 'latin1'` in `pd.read_csv()`."
   ]
  },
  {
   "cell_type": "code",
   "execution_count": 3,
   "metadata": {},
   "outputs": [],
   "source": [
    "online_rt=pd.read_csv(url,encoding='latin1')"
   ]
  },
  {
   "cell_type": "markdown",
   "metadata": {},
   "source": [
    "### Step 4. Create a histogram with the 10 countries that have the most 'Quantity' ordered except UK"
   ]
  },
  {
   "cell_type": "code",
   "execution_count": 4,
   "metadata": {},
   "outputs": [
    {
     "data": {
      "text/html": [
       "<div>\n",
       "<style scoped>\n",
       "    .dataframe tbody tr th:only-of-type {\n",
       "        vertical-align: middle;\n",
       "    }\n",
       "\n",
       "    .dataframe tbody tr th {\n",
       "        vertical-align: top;\n",
       "    }\n",
       "\n",
       "    .dataframe thead th {\n",
       "        text-align: right;\n",
       "    }\n",
       "</style>\n",
       "<table border=\"1\" class=\"dataframe\">\n",
       "  <thead>\n",
       "    <tr style=\"text-align: right;\">\n",
       "      <th></th>\n",
       "      <th>InvoiceNo</th>\n",
       "      <th>StockCode</th>\n",
       "      <th>Description</th>\n",
       "      <th>Quantity</th>\n",
       "      <th>InvoiceDate</th>\n",
       "      <th>UnitPrice</th>\n",
       "      <th>CustomerID</th>\n",
       "      <th>Country</th>\n",
       "    </tr>\n",
       "  </thead>\n",
       "  <tbody>\n",
       "    <tr>\n",
       "      <th>0</th>\n",
       "      <td>536365</td>\n",
       "      <td>85123A</td>\n",
       "      <td>WHITE HANGING HEART T-LIGHT HOLDER</td>\n",
       "      <td>6</td>\n",
       "      <td>12/1/10 8:26</td>\n",
       "      <td>2.55</td>\n",
       "      <td>17850.0</td>\n",
       "      <td>United Kingdom</td>\n",
       "    </tr>\n",
       "    <tr>\n",
       "      <th>1</th>\n",
       "      <td>536365</td>\n",
       "      <td>71053</td>\n",
       "      <td>WHITE METAL LANTERN</td>\n",
       "      <td>6</td>\n",
       "      <td>12/1/10 8:26</td>\n",
       "      <td>3.39</td>\n",
       "      <td>17850.0</td>\n",
       "      <td>United Kingdom</td>\n",
       "    </tr>\n",
       "    <tr>\n",
       "      <th>2</th>\n",
       "      <td>536365</td>\n",
       "      <td>84406B</td>\n",
       "      <td>CREAM CUPID HEARTS COAT HANGER</td>\n",
       "      <td>8</td>\n",
       "      <td>12/1/10 8:26</td>\n",
       "      <td>2.75</td>\n",
       "      <td>17850.0</td>\n",
       "      <td>United Kingdom</td>\n",
       "    </tr>\n",
       "    <tr>\n",
       "      <th>3</th>\n",
       "      <td>536365</td>\n",
       "      <td>84029G</td>\n",
       "      <td>KNITTED UNION FLAG HOT WATER BOTTLE</td>\n",
       "      <td>6</td>\n",
       "      <td>12/1/10 8:26</td>\n",
       "      <td>3.39</td>\n",
       "      <td>17850.0</td>\n",
       "      <td>United Kingdom</td>\n",
       "    </tr>\n",
       "    <tr>\n",
       "      <th>4</th>\n",
       "      <td>536365</td>\n",
       "      <td>84029E</td>\n",
       "      <td>RED WOOLLY HOTTIE WHITE HEART.</td>\n",
       "      <td>6</td>\n",
       "      <td>12/1/10 8:26</td>\n",
       "      <td>3.39</td>\n",
       "      <td>17850.0</td>\n",
       "      <td>United Kingdom</td>\n",
       "    </tr>\n",
       "    <tr>\n",
       "      <th>5</th>\n",
       "      <td>536365</td>\n",
       "      <td>22752</td>\n",
       "      <td>SET 7 BABUSHKA NESTING BOXES</td>\n",
       "      <td>2</td>\n",
       "      <td>12/1/10 8:26</td>\n",
       "      <td>7.65</td>\n",
       "      <td>17850.0</td>\n",
       "      <td>United Kingdom</td>\n",
       "    </tr>\n",
       "    <tr>\n",
       "      <th>6</th>\n",
       "      <td>536365</td>\n",
       "      <td>21730</td>\n",
       "      <td>GLASS STAR FROSTED T-LIGHT HOLDER</td>\n",
       "      <td>6</td>\n",
       "      <td>12/1/10 8:26</td>\n",
       "      <td>4.25</td>\n",
       "      <td>17850.0</td>\n",
       "      <td>United Kingdom</td>\n",
       "    </tr>\n",
       "    <tr>\n",
       "      <th>7</th>\n",
       "      <td>536366</td>\n",
       "      <td>22633</td>\n",
       "      <td>HAND WARMER UNION JACK</td>\n",
       "      <td>6</td>\n",
       "      <td>12/1/10 8:28</td>\n",
       "      <td>1.85</td>\n",
       "      <td>17850.0</td>\n",
       "      <td>United Kingdom</td>\n",
       "    </tr>\n",
       "    <tr>\n",
       "      <th>8</th>\n",
       "      <td>536366</td>\n",
       "      <td>22632</td>\n",
       "      <td>HAND WARMER RED POLKA DOT</td>\n",
       "      <td>6</td>\n",
       "      <td>12/1/10 8:28</td>\n",
       "      <td>1.85</td>\n",
       "      <td>17850.0</td>\n",
       "      <td>United Kingdom</td>\n",
       "    </tr>\n",
       "    <tr>\n",
       "      <th>9</th>\n",
       "      <td>536367</td>\n",
       "      <td>84879</td>\n",
       "      <td>ASSORTED COLOUR BIRD ORNAMENT</td>\n",
       "      <td>32</td>\n",
       "      <td>12/1/10 8:34</td>\n",
       "      <td>1.69</td>\n",
       "      <td>13047.0</td>\n",
       "      <td>United Kingdom</td>\n",
       "    </tr>\n",
       "  </tbody>\n",
       "</table>\n",
       "</div>"
      ],
      "text/plain": [
       "  InvoiceNo StockCode                          Description  Quantity  \\\n",
       "0    536365    85123A   WHITE HANGING HEART T-LIGHT HOLDER         6   \n",
       "1    536365     71053                  WHITE METAL LANTERN         6   \n",
       "2    536365    84406B       CREAM CUPID HEARTS COAT HANGER         8   \n",
       "3    536365    84029G  KNITTED UNION FLAG HOT WATER BOTTLE         6   \n",
       "4    536365    84029E       RED WOOLLY HOTTIE WHITE HEART.         6   \n",
       "5    536365     22752         SET 7 BABUSHKA NESTING BOXES         2   \n",
       "6    536365     21730    GLASS STAR FROSTED T-LIGHT HOLDER         6   \n",
       "7    536366     22633               HAND WARMER UNION JACK         6   \n",
       "8    536366     22632            HAND WARMER RED POLKA DOT         6   \n",
       "9    536367     84879        ASSORTED COLOUR BIRD ORNAMENT        32   \n",
       "\n",
       "    InvoiceDate  UnitPrice  CustomerID         Country  \n",
       "0  12/1/10 8:26       2.55     17850.0  United Kingdom  \n",
       "1  12/1/10 8:26       3.39     17850.0  United Kingdom  \n",
       "2  12/1/10 8:26       2.75     17850.0  United Kingdom  \n",
       "3  12/1/10 8:26       3.39     17850.0  United Kingdom  \n",
       "4  12/1/10 8:26       3.39     17850.0  United Kingdom  \n",
       "5  12/1/10 8:26       7.65     17850.0  United Kingdom  \n",
       "6  12/1/10 8:26       4.25     17850.0  United Kingdom  \n",
       "7  12/1/10 8:28       1.85     17850.0  United Kingdom  \n",
       "8  12/1/10 8:28       1.85     17850.0  United Kingdom  \n",
       "9  12/1/10 8:34       1.69     13047.0  United Kingdom  "
      ]
     },
     "execution_count": 4,
     "metadata": {},
     "output_type": "execute_result"
    }
   ],
   "source": [
    "online_rt.head(10)"
   ]
  },
  {
   "cell_type": "code",
   "execution_count": 5,
   "metadata": {},
   "outputs": [
    {
     "data": {
      "image/png": "[encoded data removed]",
      "text/plain": [
       "<Figure size 640x480 with 1 Axes>"
      ]
     },
     "metadata": {},
     "output_type": "display_data"
    }
   ],
   "source": [
    "df=online_rt.groupby('Country')['Quantity'].sum().sort_values(ascending=False)[1:11]\n",
    "df.plot(kind='bar')\n",
    "plt.xlabel('Countries')\n",
    "plt.ylabel('Quantity')\n",
    "plt.title('10 Countries with most orders')\n",
    "plt.xticks(rotation=45)\n",
    "plt.show()"
   ]
  },
  {
   "cell_type": "markdown",
   "metadata": {},
   "source": [
    "### Step 5.  Exclude negative Quantity entries"
   ]
  },
  {
   "cell_type": "code",
   "execution_count": 6,
   "metadata": {},
   "outputs": [
    {
     "name": "stdout",
     "output_type": "stream",
     "text": [
      "(541909, 8)\n",
      "(531285, 8)\n"
     ]
    }
   ],
   "source": [
    "print(online_rt.shape)\n",
    "online_rt=online_rt[online_rt['Quantity']>0]\n",
    "print(online_rt.shape)"
   ]
  },
  {
   "cell_type": "markdown",
   "metadata": {},
   "source": [
    "### Step 6. Create a scatterplot with the Quantity per UnitPrice by CustomerID for the top 3 Countries (except UK)"
   ]
  },
  {
   "cell_type": "code",
   "execution_count": 7,
   "metadata": {},
   "outputs": [
    {
     "data": {
      "text/html": [
       "<div>\n",
       "<style scoped>\n",
       "    .dataframe tbody tr th:only-of-type {\n",
       "        vertical-align: middle;\n",
       "    }\n",
       "\n",
       "    .dataframe tbody tr th {\n",
       "        vertical-align: top;\n",
       "    }\n",
       "\n",
       "    .dataframe thead th {\n",
       "        text-align: right;\n",
       "    }\n",
       "</style>\n",
       "<table border=\"1\" class=\"dataframe\">\n",
       "  <thead>\n",
       "    <tr style=\"text-align: right;\">\n",
       "      <th></th>\n",
       "      <th>InvoiceNo</th>\n",
       "      <th>StockCode</th>\n",
       "      <th>Description</th>\n",
       "      <th>Quantity</th>\n",
       "      <th>InvoiceDate</th>\n",
       "      <th>UnitPrice</th>\n",
       "      <th>CustomerID</th>\n",
       "      <th>Country</th>\n",
       "    </tr>\n",
       "  </thead>\n",
       "  <tbody>\n",
       "    <tr>\n",
       "      <th>0</th>\n",
       "      <td>536365</td>\n",
       "      <td>85123A</td>\n",
       "      <td>WHITE HANGING HEART T-LIGHT HOLDER</td>\n",
       "      <td>6</td>\n",
       "      <td>12/1/10 8:26</td>\n",
       "      <td>2.55</td>\n",
       "      <td>17850.0</td>\n",
       "      <td>United Kingdom</td>\n",
       "    </tr>\n",
       "    <tr>\n",
       "      <th>1</th>\n",
       "      <td>536365</td>\n",
       "      <td>71053</td>\n",
       "      <td>WHITE METAL LANTERN</td>\n",
       "      <td>6</td>\n",
       "      <td>12/1/10 8:26</td>\n",
       "      <td>3.39</td>\n",
       "      <td>17850.0</td>\n",
       "      <td>United Kingdom</td>\n",
       "    </tr>\n",
       "    <tr>\n",
       "      <th>2</th>\n",
       "      <td>536365</td>\n",
       "      <td>84406B</td>\n",
       "      <td>CREAM CUPID HEARTS COAT HANGER</td>\n",
       "      <td>8</td>\n",
       "      <td>12/1/10 8:26</td>\n",
       "      <td>2.75</td>\n",
       "      <td>17850.0</td>\n",
       "      <td>United Kingdom</td>\n",
       "    </tr>\n",
       "    <tr>\n",
       "      <th>3</th>\n",
       "      <td>536365</td>\n",
       "      <td>84029G</td>\n",
       "      <td>KNITTED UNION FLAG HOT WATER BOTTLE</td>\n",
       "      <td>6</td>\n",
       "      <td>12/1/10 8:26</td>\n",
       "      <td>3.39</td>\n",
       "      <td>17850.0</td>\n",
       "      <td>United Kingdom</td>\n",
       "    </tr>\n",
       "    <tr>\n",
       "      <th>4</th>\n",
       "      <td>536365</td>\n",
       "      <td>84029E</td>\n",
       "      <td>RED WOOLLY HOTTIE WHITE HEART.</td>\n",
       "      <td>6</td>\n",
       "      <td>12/1/10 8:26</td>\n",
       "      <td>3.39</td>\n",
       "      <td>17850.0</td>\n",
       "      <td>United Kingdom</td>\n",
       "    </tr>\n",
       "  </tbody>\n",
       "</table>\n",
       "</div>"
      ],
      "text/plain": [
       "  InvoiceNo StockCode                          Description  Quantity  \\\n",
       "0    536365    85123A   WHITE HANGING HEART T-LIGHT HOLDER         6   \n",
       "1    536365     71053                  WHITE METAL LANTERN         6   \n",
       "2    536365    84406B       CREAM CUPID HEARTS COAT HANGER         8   \n",
       "3    536365    84029G  KNITTED UNION FLAG HOT WATER BOTTLE         6   \n",
       "4    536365    84029E       RED WOOLLY HOTTIE WHITE HEART.         6   \n",
       "\n",
       "    InvoiceDate  UnitPrice  CustomerID         Country  \n",
       "0  12/1/10 8:26       2.55     17850.0  United Kingdom  \n",
       "1  12/1/10 8:26       3.39     17850.0  United Kingdom  \n",
       "2  12/1/10 8:26       2.75     17850.0  United Kingdom  \n",
       "3  12/1/10 8:26       3.39     17850.0  United Kingdom  \n",
       "4  12/1/10 8:26       3.39     17850.0  United Kingdom  "
      ]
     },
     "execution_count": 7,
     "metadata": {},
     "output_type": "execute_result"
    }
   ],
   "source": [
    "online_rt.head(5)"
   ]
  },
  {
   "cell_type": "code",
   "execution_count": 8,
   "metadata": {},
   "outputs": [
    {
     "data": {
      "image/png": "[encoded data removed]",
      "text/plain": [
       "<Figure size 1200x300 with 3 Axes>"
      ]
     },
     "metadata": {},
     "output_type": "display_data"
    }
   ],
   "source": [
    "countries=['Netherlands','EIRE','Germany']\n",
    "c=online_rt.groupby(['CustomerID','Country']).sum().reset_index()\n",
    "fig,axes=plt.subplots(nrows=1,ncols=3,sharey=True,sharex=True,figsize=(12,3))\n",
    "for country,ax in zip(countries,axes):\n",
    "    d=c[c['Country']==country]\n",
    "    ax.scatter(d['Quantity'],d['UnitPrice'])\n",
    "    ax.legend([country])\n",
    "    ax.set_xlabel('Quantity')\n",
    "fig.supylabel('UnitPrice',y=0.6)\n",
    "plt.tight_layout()\n",
    "plt.show()"
   ]
  },
  {
   "cell_type": "markdown",
   "metadata": {},
   "source": [
    "### Step 7. Investigate why the previous results look so uninformative.\n",
    "\n",
    "This section might seem a bit tedious to go through. But I've thought of it as some kind of a simulation of problems one might encounter when dealing with data and other people. Besides there is a prize at the end (i.e. Section 8).\n",
    "\n",
    "(But feel free to jump right ahead into Section 8 if you want; it doesn't require that you finish this section.)\n",
    "\n",
    "#### Step 7.1 Look at the first line of code in Step 6. And try to figure out if it leads to any kind of problem.\n",
    "##### Step 7.1.1 Display the first few rows of that DataFrame."
   ]
  },
  {
   "cell_type": "code",
   "execution_count": 9,
   "metadata": {},
   "outputs": [
    {
     "data": {
      "text/html": [
       "<div>\n",
       "<style scoped>\n",
       "    .dataframe tbody tr th:only-of-type {\n",
       "        vertical-align: middle;\n",
       "    }\n",
       "\n",
       "    .dataframe tbody tr th {\n",
       "        vertical-align: top;\n",
       "    }\n",
       "\n",
       "    .dataframe thead th {\n",
       "        text-align: right;\n",
       "    }\n",
       "</style>\n",
       "<table border=\"1\" class=\"dataframe\">\n",
       "  <thead>\n",
       "    <tr style=\"text-align: right;\">\n",
       "      <th></th>\n",
       "      <th>CustomerID</th>\n",
       "      <th>Country</th>\n",
       "      <th>InvoiceNo</th>\n",
       "      <th>StockCode</th>\n",
       "      <th>Description</th>\n",
       "      <th>Quantity</th>\n",
       "      <th>InvoiceDate</th>\n",
       "      <th>UnitPrice</th>\n",
       "    </tr>\n",
       "  </thead>\n",
       "  <tbody>\n",
       "    <tr>\n",
       "      <th>0</th>\n",
       "      <td>12346.0</td>\n",
       "      <td>United Kingdom</td>\n",
       "      <td>541431</td>\n",
       "      <td>23166</td>\n",
       "      <td>MEDIUM CERAMIC TOP STORAGE JAR</td>\n",
       "      <td>74215</td>\n",
       "      <td>1/18/11 10:01</td>\n",
       "      <td>1.04</td>\n",
       "    </tr>\n",
       "    <tr>\n",
       "      <th>1</th>\n",
       "      <td>12347.0</td>\n",
       "      <td>Iceland</td>\n",
       "      <td>5376265376265376265376265376265376265376265376...</td>\n",
       "      <td>8511622375714772249222771227722277322774227752...</td>\n",
       "      <td>BLACK CANDELABRA T-LIGHT HOLDERAIRLINE BAG VIN...</td>\n",
       "      <td>2458</td>\n",
       "      <td>12/7/10 14:5712/7/10 14:5712/7/10 14:5712/7/10...</td>\n",
       "      <td>481.21</td>\n",
       "    </tr>\n",
       "    <tr>\n",
       "      <th>2</th>\n",
       "      <td>12348.0</td>\n",
       "      <td>Finland</td>\n",
       "      <td>5393185393185393185393185393185393185393185393...</td>\n",
       "      <td>8499222951849918499121213212132261621981219822...</td>\n",
       "      <td>72 SWEETHEART FAIRY CAKE CASES60 CAKE CASES DO...</td>\n",
       "      <td>2341</td>\n",
       "      <td>12/16/10 19:0912/16/10 19:0912/16/10 19:0912/1...</td>\n",
       "      <td>178.71</td>\n",
       "    </tr>\n",
       "    <tr>\n",
       "      <th>3</th>\n",
       "      <td>12349.0</td>\n",
       "      <td>Italy</td>\n",
       "      <td>5776095776095776095776095776095776095776095776...</td>\n",
       "      <td>2311223460215642141121563221312219548194849782...</td>\n",
       "      <td>PARISIENNE CURIO CABINETSWEETHEART WALL TIDY P...</td>\n",
       "      <td>631</td>\n",
       "      <td>11/21/11 9:5111/21/11 9:5111/21/11 9:5111/21/1...</td>\n",
       "      <td>605.10</td>\n",
       "    </tr>\n",
       "    <tr>\n",
       "      <th>4</th>\n",
       "      <td>12350.0</td>\n",
       "      <td>Norway</td>\n",
       "      <td>5430375430375430375430375430375430375430375430...</td>\n",
       "      <td>219082241279066K79191C2234884086C2255122557218...</td>\n",
       "      <td>CHOCOLATE THIS WAY METAL SIGNMETAL SIGN NEIGHB...</td>\n",
       "      <td>197</td>\n",
       "      <td>2/2/11 16:012/2/11 16:012/2/11 16:012/2/11 16:...</td>\n",
       "      <td>65.30</td>\n",
       "    </tr>\n",
       "  </tbody>\n",
       "</table>\n",
       "</div>"
      ],
      "text/plain": [
       "   CustomerID         Country  \\\n",
       "0     12346.0  United Kingdom   \n",
       "1     12347.0         Iceland   \n",
       "2     12348.0         Finland   \n",
       "3     12349.0           Italy   \n",
       "4     12350.0          Norway   \n",
       "\n",
       "                                           InvoiceNo  \\\n",
       "0                                             541431   \n",
       "1  5376265376265376265376265376265376265376265376...   \n",
       "2  5393185393185393185393185393185393185393185393...   \n",
       "3  5776095776095776095776095776095776095776095776...   \n",
       "4  5430375430375430375430375430375430375430375430...   \n",
       "\n",
       "                                           StockCode  \\\n",
       "0                                              23166   \n",
       "1  8511622375714772249222771227722277322774227752...   \n",
       "2  8499222951849918499121213212132261621981219822...   \n",
       "3  2311223460215642141121563221312219548194849782...   \n",
       "4  219082241279066K79191C2234884086C2255122557218...   \n",
       "\n",
       "                                         Description  Quantity  \\\n",
       "0                     MEDIUM CERAMIC TOP STORAGE JAR     74215   \n",
       "1  BLACK CANDELABRA T-LIGHT HOLDERAIRLINE BAG VIN...      2458   \n",
       "2  72 SWEETHEART FAIRY CAKE CASES60 CAKE CASES DO...      2341   \n",
       "3  PARISIENNE CURIO CABINETSWEETHEART WALL TIDY P...       631   \n",
       "4  CHOCOLATE THIS WAY METAL SIGNMETAL SIGN NEIGHB...       197   \n",
       "\n",
       "                                         InvoiceDate  UnitPrice  \n",
       "0                                      1/18/11 10:01       1.04  \n",
       "1  12/7/10 14:5712/7/10 14:5712/7/10 14:5712/7/10...     481.21  \n",
       "2  12/16/10 19:0912/16/10 19:0912/16/10 19:0912/1...     178.71  \n",
       "3  11/21/11 9:5111/21/11 9:5111/21/11 9:5111/21/1...     605.10  \n",
       "4  2/2/11 16:012/2/11 16:012/2/11 16:012/2/11 16:...      65.30  "
      ]
     },
     "execution_count": 9,
     "metadata": {},
     "output_type": "execute_result"
    }
   ],
   "source": [
    "c.head(5)"
   ]
  },
  {
   "cell_type": "markdown",
   "metadata": {},
   "source": [
    "##### Step 7.1.2 Think about what that piece of code does and display the dtype of `UnitPrice`"
   ]
  },
  {
   "cell_type": "code",
   "execution_count": 10,
   "metadata": {},
   "outputs": [
    {
     "data": {
      "text/plain": [
       "dtype('float64')"
      ]
     },
     "execution_count": 10,
     "metadata": {},
     "output_type": "execute_result"
    }
   ],
   "source": [
    "c.UnitPrice.dtype"
   ]
  },
  {
   "cell_type": "markdown",
   "metadata": {},
   "source": [
    "##### Step 7.1.3 Pull data from `online_rt`for `CustomerID`s 12346.0 and 12347.0."
   ]
  },
  {
   "cell_type": "code",
   "execution_count": 11,
   "metadata": {},
   "outputs": [
    {
     "data": {
      "text/html": [
       "<div>\n",
       "<style scoped>\n",
       "    .dataframe tbody tr th:only-of-type {\n",
       "        vertical-align: middle;\n",
       "    }\n",
       "\n",
       "    .dataframe tbody tr th {\n",
       "        vertical-align: top;\n",
       "    }\n",
       "\n",
       "    .dataframe thead th {\n",
       "        text-align: right;\n",
       "    }\n",
       "</style>\n",
       "<table border=\"1\" class=\"dataframe\">\n",
       "  <thead>\n",
       "    <tr style=\"text-align: right;\">\n",
       "      <th></th>\n",
       "      <th>InvoiceNo</th>\n",
       "      <th>StockCode</th>\n",
       "      <th>Description</th>\n",
       "      <th>Quantity</th>\n",
       "      <th>InvoiceDate</th>\n",
       "      <th>UnitPrice</th>\n",
       "      <th>CustomerID</th>\n",
       "      <th>Country</th>\n",
       "    </tr>\n",
       "  </thead>\n",
       "  <tbody>\n",
       "    <tr>\n",
       "      <th>61619</th>\n",
       "      <td>541431</td>\n",
       "      <td>23166</td>\n",
       "      <td>MEDIUM CERAMIC TOP STORAGE JAR</td>\n",
       "      <td>74215</td>\n",
       "      <td>1/18/11 10:01</td>\n",
       "      <td>1.04</td>\n",
       "      <td>12346.0</td>\n",
       "      <td>United Kingdom</td>\n",
       "    </tr>\n",
       "  </tbody>\n",
       "</table>\n",
       "</div>"
      ],
      "text/plain": [
       "      InvoiceNo StockCode                     Description  Quantity  \\\n",
       "61619    541431     23166  MEDIUM CERAMIC TOP STORAGE JAR     74215   \n",
       "\n",
       "         InvoiceDate  UnitPrice  CustomerID         Country  \n",
       "61619  1/18/11 10:01       1.04     12346.0  United Kingdom  "
      ]
     },
     "execution_count": 11,
     "metadata": {},
     "output_type": "execute_result"
    }
   ],
   "source": [
    "online_rt[(online_rt['CustomerID']==12346)]"
   ]
  },
  {
   "cell_type": "code",
   "execution_count": 12,
   "metadata": {},
   "outputs": [
    {
     "data": {
      "text/html": [
       "<div>\n",
       "<style scoped>\n",
       "    .dataframe tbody tr th:only-of-type {\n",
       "        vertical-align: middle;\n",
       "    }\n",
       "\n",
       "    .dataframe tbody tr th {\n",
       "        vertical-align: top;\n",
       "    }\n",
       "\n",
       "    .dataframe thead th {\n",
       "        text-align: right;\n",
       "    }\n",
       "</style>\n",
       "<table border=\"1\" class=\"dataframe\">\n",
       "  <thead>\n",
       "    <tr style=\"text-align: right;\">\n",
       "      <th></th>\n",
       "      <th>InvoiceNo</th>\n",
       "      <th>StockCode</th>\n",
       "      <th>Description</th>\n",
       "      <th>Quantity</th>\n",
       "      <th>InvoiceDate</th>\n",
       "      <th>UnitPrice</th>\n",
       "      <th>CustomerID</th>\n",
       "      <th>Country</th>\n",
       "    </tr>\n",
       "  </thead>\n",
       "  <tbody>\n",
       "    <tr>\n",
       "      <th>14938</th>\n",
       "      <td>537626</td>\n",
       "      <td>85116</td>\n",
       "      <td>BLACK CANDELABRA T-LIGHT HOLDER</td>\n",
       "      <td>12</td>\n",
       "      <td>12/7/10 14:57</td>\n",
       "      <td>2.10</td>\n",
       "      <td>12347.0</td>\n",
       "      <td>Iceland</td>\n",
       "    </tr>\n",
       "    <tr>\n",
       "      <th>14939</th>\n",
       "      <td>537626</td>\n",
       "      <td>22375</td>\n",
       "      <td>AIRLINE BAG VINTAGE JET SET BROWN</td>\n",
       "      <td>4</td>\n",
       "      <td>12/7/10 14:57</td>\n",
       "      <td>4.25</td>\n",
       "      <td>12347.0</td>\n",
       "      <td>Iceland</td>\n",
       "    </tr>\n",
       "    <tr>\n",
       "      <th>14940</th>\n",
       "      <td>537626</td>\n",
       "      <td>71477</td>\n",
       "      <td>COLOUR GLASS. STAR T-LIGHT HOLDER</td>\n",
       "      <td>12</td>\n",
       "      <td>12/7/10 14:57</td>\n",
       "      <td>3.25</td>\n",
       "      <td>12347.0</td>\n",
       "      <td>Iceland</td>\n",
       "    </tr>\n",
       "    <tr>\n",
       "      <th>14941</th>\n",
       "      <td>537626</td>\n",
       "      <td>22492</td>\n",
       "      <td>MINI PAINT SET VINTAGE</td>\n",
       "      <td>36</td>\n",
       "      <td>12/7/10 14:57</td>\n",
       "      <td>0.65</td>\n",
       "      <td>12347.0</td>\n",
       "      <td>Iceland</td>\n",
       "    </tr>\n",
       "    <tr>\n",
       "      <th>14942</th>\n",
       "      <td>537626</td>\n",
       "      <td>22771</td>\n",
       "      <td>CLEAR DRAWER KNOB ACRYLIC EDWARDIAN</td>\n",
       "      <td>12</td>\n",
       "      <td>12/7/10 14:57</td>\n",
       "      <td>1.25</td>\n",
       "      <td>12347.0</td>\n",
       "      <td>Iceland</td>\n",
       "    </tr>\n",
       "    <tr>\n",
       "      <th>...</th>\n",
       "      <td>...</td>\n",
       "      <td>...</td>\n",
       "      <td>...</td>\n",
       "      <td>...</td>\n",
       "      <td>...</td>\n",
       "      <td>...</td>\n",
       "      <td>...</td>\n",
       "      <td>...</td>\n",
       "    </tr>\n",
       "    <tr>\n",
       "      <th>535010</th>\n",
       "      <td>581180</td>\n",
       "      <td>20719</td>\n",
       "      <td>WOODLAND CHARLOTTE BAG</td>\n",
       "      <td>10</td>\n",
       "      <td>12/7/11 15:52</td>\n",
       "      <td>0.85</td>\n",
       "      <td>12347.0</td>\n",
       "      <td>Iceland</td>\n",
       "    </tr>\n",
       "    <tr>\n",
       "      <th>535011</th>\n",
       "      <td>581180</td>\n",
       "      <td>21265</td>\n",
       "      <td>PINK GOOSE FEATHER TREE 60CM</td>\n",
       "      <td>12</td>\n",
       "      <td>12/7/11 15:52</td>\n",
       "      <td>1.95</td>\n",
       "      <td>12347.0</td>\n",
       "      <td>Iceland</td>\n",
       "    </tr>\n",
       "    <tr>\n",
       "      <th>535012</th>\n",
       "      <td>581180</td>\n",
       "      <td>23271</td>\n",
       "      <td>CHRISTMAS TABLE SILVER CANDLE SPIKE</td>\n",
       "      <td>16</td>\n",
       "      <td>12/7/11 15:52</td>\n",
       "      <td>0.83</td>\n",
       "      <td>12347.0</td>\n",
       "      <td>Iceland</td>\n",
       "    </tr>\n",
       "    <tr>\n",
       "      <th>535013</th>\n",
       "      <td>581180</td>\n",
       "      <td>23506</td>\n",
       "      <td>MINI PLAYING CARDS SPACEBOY</td>\n",
       "      <td>20</td>\n",
       "      <td>12/7/11 15:52</td>\n",
       "      <td>0.42</td>\n",
       "      <td>12347.0</td>\n",
       "      <td>Iceland</td>\n",
       "    </tr>\n",
       "    <tr>\n",
       "      <th>535014</th>\n",
       "      <td>581180</td>\n",
       "      <td>23508</td>\n",
       "      <td>MINI PLAYING CARDS DOLLY GIRL</td>\n",
       "      <td>20</td>\n",
       "      <td>12/7/11 15:52</td>\n",
       "      <td>0.42</td>\n",
       "      <td>12347.0</td>\n",
       "      <td>Iceland</td>\n",
       "    </tr>\n",
       "  </tbody>\n",
       "</table>\n",
       "<p>182 rows × 8 columns</p>\n",
       "</div>"
      ],
      "text/plain": [
       "       InvoiceNo StockCode                          Description  Quantity  \\\n",
       "14938     537626     85116      BLACK CANDELABRA T-LIGHT HOLDER        12   \n",
       "14939     537626     22375    AIRLINE BAG VINTAGE JET SET BROWN         4   \n",
       "14940     537626     71477    COLOUR GLASS. STAR T-LIGHT HOLDER        12   \n",
       "14941     537626     22492              MINI PAINT SET VINTAGE         36   \n",
       "14942     537626     22771  CLEAR DRAWER KNOB ACRYLIC EDWARDIAN        12   \n",
       "...          ...       ...                                  ...       ...   \n",
       "535010    581180     20719               WOODLAND CHARLOTTE BAG        10   \n",
       "535011    581180     21265         PINK GOOSE FEATHER TREE 60CM        12   \n",
       "535012    581180     23271  CHRISTMAS TABLE SILVER CANDLE SPIKE        16   \n",
       "535013    581180     23506         MINI PLAYING CARDS SPACEBOY         20   \n",
       "535014    581180     23508       MINI PLAYING CARDS DOLLY GIRL         20   \n",
       "\n",
       "          InvoiceDate  UnitPrice  CustomerID  Country  \n",
       "14938   12/7/10 14:57       2.10     12347.0  Iceland  \n",
       "14939   12/7/10 14:57       4.25     12347.0  Iceland  \n",
       "14940   12/7/10 14:57       3.25     12347.0  Iceland  \n",
       "14941   12/7/10 14:57       0.65     12347.0  Iceland  \n",
       "14942   12/7/10 14:57       1.25     12347.0  Iceland  \n",
       "...               ...        ...         ...      ...  \n",
       "535010  12/7/11 15:52       0.85     12347.0  Iceland  \n",
       "535011  12/7/11 15:52       1.95     12347.0  Iceland  \n",
       "535012  12/7/11 15:52       0.83     12347.0  Iceland  \n",
       "535013  12/7/11 15:52       0.42     12347.0  Iceland  \n",
       "535014  12/7/11 15:52       0.42     12347.0  Iceland  \n",
       "\n",
       "[182 rows x 8 columns]"
      ]
     },
     "execution_count": 12,
     "metadata": {},
     "output_type": "execute_result"
    }
   ],
   "source": [
    "online_rt[(online_rt['CustomerID']==12347)]"
   ]
  },
  {
   "cell_type": "markdown",
   "metadata": {},
   "source": [
    "#### Step 7.2 Reinterpreting the initial problem.\n",
    "\n",
    "To reiterate the question that we were dealing with:  \n",
    "\"Create a scatterplot with the Quantity per UnitPrice by CustomerID for the top 3 Countries\"\n",
    "\n",
    "The question is open to a set of different interpretations.\n",
    "We need to disambiguate.\n",
    "\n",
    "We could do a single plot by looking at all the data from the top 3 countries.\n",
    "Or we could do one plot per country. To keep things consistent with the rest of the exercise,\n",
    "let's stick to the latter oprion. So that's settled.\n",
    "\n",
    "But \"top 3 countries\" with respect to what? Two answers suggest themselves:\n",
    "Total sales volume (i.e. total quantity sold) or total sales (i.e. revenue).\n",
    "This exercise goes for sales volume, so let's stick to that.\n",
    "\n",
    "##### Step 7.2.1 Find out the top 3 countries in terms of sales volume."
   ]
  },
  {
   "cell_type": "code",
   "execution_count": 13,
   "metadata": {},
   "outputs": [
    {
     "data": {
      "text/plain": [
       "['Netherlands', 'EIRE', 'Germany']"
      ]
     },
     "execution_count": 13,
     "metadata": {},
     "output_type": "execute_result"
    }
   ],
   "source": [
    "sales_volume=online_rt[online_rt['Country']!='United Kingdom'].groupby('Country')['Quantity'].sum().sort_values(ascending=False).reset_index()['Country']\n",
    "top3=list(sales_volume[:3])\n",
    "top3"
   ]
  },
  {
   "cell_type": "markdown",
   "metadata": {},
   "source": [
    "##### Step 7.2.2 \n",
    "\n",
    "Now that we have the top 3 countries, we can focus on the rest of the problem:  \n",
    "\"Quantity per UnitPrice by CustomerID\".  \n",
    "We need to unpack that.\n",
    "\n",
    "\"by CustomerID\" part is easy. That means we're going to be plotting one dot per CustomerID's on our plot. In other words, we're going to be grouping by CustomerID.\n",
    "\n",
    "\"Quantity per UnitPrice\" is trickier. Here's what we know:  \n",
    "*One axis will represent a Quantity assigned to a given customer. This is easy; we can just plot the total  Quantity for each customer.  \n",
    "*The other axis will represent a UnitPrice assigned to a given customer. Remember a single customer can have any number of orders with different prices, so summing up prices isn't quite helpful. Besides it's not quite clear what we mean when we say \"unit price per customer\"; it sounds like price of the customer! A reasonable alternative is that we assign each customer the average amount each has paid per item. So let's settle that question in that manner.\n",
    "\n",
    "#### Step 7.3 Modify, select and plot data\n",
    "##### Step 7.3.1 Add a column to online_rt called `Revenue` calculate the revenue (Quantity * UnitPrice) from each sale.\n",
    "We will use this later to figure out an average price per customer."
   ]
  },
  {
   "cell_type": "code",
   "execution_count": 14,
   "metadata": {},
   "outputs": [
    {
     "data": {
      "text/html": [
       "<div>\n",
       "<style scoped>\n",
       "    .dataframe tbody tr th:only-of-type {\n",
       "        vertical-align: middle;\n",
       "    }\n",
       "\n",
       "    .dataframe tbody tr th {\n",
       "        vertical-align: top;\n",
       "    }\n",
       "\n",
       "    .dataframe thead th {\n",
       "        text-align: right;\n",
       "    }\n",
       "</style>\n",
       "<table border=\"1\" class=\"dataframe\">\n",
       "  <thead>\n",
       "    <tr style=\"text-align: right;\">\n",
       "      <th></th>\n",
       "      <th>InvoiceNo</th>\n",
       "      <th>StockCode</th>\n",
       "      <th>Description</th>\n",
       "      <th>Quantity</th>\n",
       "      <th>InvoiceDate</th>\n",
       "      <th>UnitPrice</th>\n",
       "      <th>CustomerID</th>\n",
       "      <th>Country</th>\n",
       "      <th>Revenue</th>\n",
       "    </tr>\n",
       "  </thead>\n",
       "  <tbody>\n",
       "    <tr>\n",
       "      <th>0</th>\n",
       "      <td>536365</td>\n",
       "      <td>85123A</td>\n",
       "      <td>WHITE HANGING HEART T-LIGHT HOLDER</td>\n",
       "      <td>6</td>\n",
       "      <td>12/1/10 8:26</td>\n",
       "      <td>2.55</td>\n",
       "      <td>17850.0</td>\n",
       "      <td>United Kingdom</td>\n",
       "      <td>15.30</td>\n",
       "    </tr>\n",
       "    <tr>\n",
       "      <th>1</th>\n",
       "      <td>536365</td>\n",
       "      <td>71053</td>\n",
       "      <td>WHITE METAL LANTERN</td>\n",
       "      <td>6</td>\n",
       "      <td>12/1/10 8:26</td>\n",
       "      <td>3.39</td>\n",
       "      <td>17850.0</td>\n",
       "      <td>United Kingdom</td>\n",
       "      <td>20.34</td>\n",
       "    </tr>\n",
       "    <tr>\n",
       "      <th>2</th>\n",
       "      <td>536365</td>\n",
       "      <td>84406B</td>\n",
       "      <td>CREAM CUPID HEARTS COAT HANGER</td>\n",
       "      <td>8</td>\n",
       "      <td>12/1/10 8:26</td>\n",
       "      <td>2.75</td>\n",
       "      <td>17850.0</td>\n",
       "      <td>United Kingdom</td>\n",
       "      <td>22.00</td>\n",
       "    </tr>\n",
       "    <tr>\n",
       "      <th>3</th>\n",
       "      <td>536365</td>\n",
       "      <td>84029G</td>\n",
       "      <td>KNITTED UNION FLAG HOT WATER BOTTLE</td>\n",
       "      <td>6</td>\n",
       "      <td>12/1/10 8:26</td>\n",
       "      <td>3.39</td>\n",
       "      <td>17850.0</td>\n",
       "      <td>United Kingdom</td>\n",
       "      <td>20.34</td>\n",
       "    </tr>\n",
       "    <tr>\n",
       "      <th>4</th>\n",
       "      <td>536365</td>\n",
       "      <td>84029E</td>\n",
       "      <td>RED WOOLLY HOTTIE WHITE HEART.</td>\n",
       "      <td>6</td>\n",
       "      <td>12/1/10 8:26</td>\n",
       "      <td>3.39</td>\n",
       "      <td>17850.0</td>\n",
       "      <td>United Kingdom</td>\n",
       "      <td>20.34</td>\n",
       "    </tr>\n",
       "    <tr>\n",
       "      <th>...</th>\n",
       "      <td>...</td>\n",
       "      <td>...</td>\n",
       "      <td>...</td>\n",
       "      <td>...</td>\n",
       "      <td>...</td>\n",
       "      <td>...</td>\n",
       "      <td>...</td>\n",
       "      <td>...</td>\n",
       "      <td>...</td>\n",
       "    </tr>\n",
       "    <tr>\n",
       "      <th>541904</th>\n",
       "      <td>581587</td>\n",
       "      <td>22613</td>\n",
       "      <td>PACK OF 20 SPACEBOY NAPKINS</td>\n",
       "      <td>12</td>\n",
       "      <td>12/9/11 12:50</td>\n",
       "      <td>0.85</td>\n",
       "      <td>12680.0</td>\n",
       "      <td>France</td>\n",
       "      <td>10.20</td>\n",
       "    </tr>\n",
       "    <tr>\n",
       "      <th>541905</th>\n",
       "      <td>581587</td>\n",
       "      <td>22899</td>\n",
       "      <td>CHILDREN'S APRON DOLLY GIRL</td>\n",
       "      <td>6</td>\n",
       "      <td>12/9/11 12:50</td>\n",
       "      <td>2.10</td>\n",
       "      <td>12680.0</td>\n",
       "      <td>France</td>\n",
       "      <td>12.60</td>\n",
       "    </tr>\n",
       "    <tr>\n",
       "      <th>541906</th>\n",
       "      <td>581587</td>\n",
       "      <td>23254</td>\n",
       "      <td>CHILDRENS CUTLERY DOLLY GIRL</td>\n",
       "      <td>4</td>\n",
       "      <td>12/9/11 12:50</td>\n",
       "      <td>4.15</td>\n",
       "      <td>12680.0</td>\n",
       "      <td>France</td>\n",
       "      <td>16.60</td>\n",
       "    </tr>\n",
       "    <tr>\n",
       "      <th>541907</th>\n",
       "      <td>581587</td>\n",
       "      <td>23255</td>\n",
       "      <td>CHILDRENS CUTLERY CIRCUS PARADE</td>\n",
       "      <td>4</td>\n",
       "      <td>12/9/11 12:50</td>\n",
       "      <td>4.15</td>\n",
       "      <td>12680.0</td>\n",
       "      <td>France</td>\n",
       "      <td>16.60</td>\n",
       "    </tr>\n",
       "    <tr>\n",
       "      <th>541908</th>\n",
       "      <td>581587</td>\n",
       "      <td>22138</td>\n",
       "      <td>BAKING SET 9 PIECE RETROSPOT</td>\n",
       "      <td>3</td>\n",
       "      <td>12/9/11 12:50</td>\n",
       "      <td>4.95</td>\n",
       "      <td>12680.0</td>\n",
       "      <td>France</td>\n",
       "      <td>14.85</td>\n",
       "    </tr>\n",
       "  </tbody>\n",
       "</table>\n",
       "<p>531285 rows × 9 columns</p>\n",
       "</div>"
      ],
      "text/plain": [
       "       InvoiceNo StockCode                          Description  Quantity  \\\n",
       "0         536365    85123A   WHITE HANGING HEART T-LIGHT HOLDER         6   \n",
       "1         536365     71053                  WHITE METAL LANTERN         6   \n",
       "2         536365    84406B       CREAM CUPID HEARTS COAT HANGER         8   \n",
       "3         536365    84029G  KNITTED UNION FLAG HOT WATER BOTTLE         6   \n",
       "4         536365    84029E       RED WOOLLY HOTTIE WHITE HEART.         6   \n",
       "...          ...       ...                                  ...       ...   \n",
       "541904    581587     22613          PACK OF 20 SPACEBOY NAPKINS        12   \n",
       "541905    581587     22899         CHILDREN'S APRON DOLLY GIRL          6   \n",
       "541906    581587     23254        CHILDRENS CUTLERY DOLLY GIRL          4   \n",
       "541907    581587     23255      CHILDRENS CUTLERY CIRCUS PARADE         4   \n",
       "541908    581587     22138        BAKING SET 9 PIECE RETROSPOT          3   \n",
       "\n",
       "          InvoiceDate  UnitPrice  CustomerID         Country  Revenue  \n",
       "0        12/1/10 8:26       2.55     17850.0  United Kingdom    15.30  \n",
       "1        12/1/10 8:26       3.39     17850.0  United Kingdom    20.34  \n",
       "2        12/1/10 8:26       2.75     17850.0  United Kingdom    22.00  \n",
       "3        12/1/10 8:26       3.39     17850.0  United Kingdom    20.34  \n",
       "4        12/1/10 8:26       3.39     17850.0  United Kingdom    20.34  \n",
       "...               ...        ...         ...             ...      ...  \n",
       "541904  12/9/11 12:50       0.85     12680.0          France    10.20  \n",
       "541905  12/9/11 12:50       2.10     12680.0          France    12.60  \n",
       "541906  12/9/11 12:50       4.15     12680.0          France    16.60  \n",
       "541907  12/9/11 12:50       4.15     12680.0          France    16.60  \n",
       "541908  12/9/11 12:50       4.95     12680.0          France    14.85  \n",
       "\n",
       "[531285 rows x 9 columns]"
      ]
     },
     "execution_count": 14,
     "metadata": {},
     "output_type": "execute_result"
    }
   ],
   "source": [
    "online_rt['Revenue']=online_rt['Quantity']*online_rt['UnitPrice']\n",
    "online_rt"
   ]
  },
  {
   "cell_type": "markdown",
   "metadata": {},
   "source": [
    "##### Step 7.3.2 Group by `CustomerID` and `Country` and find out the average price (`AvgPrice`) each customer spends per unit."
   ]
  },
  {
   "cell_type": "code",
   "execution_count": 15,
   "metadata": {},
   "outputs": [
    {
     "data": {
      "text/html": [
       "<div>\n",
       "<style scoped>\n",
       "    .dataframe tbody tr th:only-of-type {\n",
       "        vertical-align: middle;\n",
       "    }\n",
       "\n",
       "    .dataframe tbody tr th {\n",
       "        vertical-align: top;\n",
       "    }\n",
       "\n",
       "    .dataframe thead th {\n",
       "        text-align: right;\n",
       "    }\n",
       "</style>\n",
       "<table border=\"1\" class=\"dataframe\">\n",
       "  <thead>\n",
       "    <tr style=\"text-align: right;\">\n",
       "      <th></th>\n",
       "      <th>CustomerID</th>\n",
       "      <th>Country</th>\n",
       "      <th>InvoiceNo</th>\n",
       "      <th>StockCode</th>\n",
       "      <th>Description</th>\n",
       "      <th>Quantity</th>\n",
       "      <th>InvoiceDate</th>\n",
       "      <th>UnitPrice</th>\n",
       "      <th>Revenue</th>\n",
       "      <th>AvgPrice</th>\n",
       "    </tr>\n",
       "  </thead>\n",
       "  <tbody>\n",
       "    <tr>\n",
       "      <th>0</th>\n",
       "      <td>12346.0</td>\n",
       "      <td>United Kingdom</td>\n",
       "      <td>541431</td>\n",
       "      <td>23166</td>\n",
       "      <td>MEDIUM CERAMIC TOP STORAGE JAR</td>\n",
       "      <td>74215</td>\n",
       "      <td>1/18/11 10:01</td>\n",
       "      <td>1.04</td>\n",
       "      <td>77183.60</td>\n",
       "      <td>1.040000</td>\n",
       "    </tr>\n",
       "    <tr>\n",
       "      <th>1</th>\n",
       "      <td>12347.0</td>\n",
       "      <td>Iceland</td>\n",
       "      <td>5376265376265376265376265376265376265376265376...</td>\n",
       "      <td>8511622375714772249222771227722277322774227752...</td>\n",
       "      <td>BLACK CANDELABRA T-LIGHT HOLDERAIRLINE BAG VIN...</td>\n",
       "      <td>2458</td>\n",
       "      <td>12/7/10 14:5712/7/10 14:5712/7/10 14:5712/7/10...</td>\n",
       "      <td>481.21</td>\n",
       "      <td>4310.00</td>\n",
       "      <td>1.753458</td>\n",
       "    </tr>\n",
       "    <tr>\n",
       "      <th>2</th>\n",
       "      <td>12348.0</td>\n",
       "      <td>Finland</td>\n",
       "      <td>5393185393185393185393185393185393185393185393...</td>\n",
       "      <td>8499222951849918499121213212132261621981219822...</td>\n",
       "      <td>72 SWEETHEART FAIRY CAKE CASES60 CAKE CASES DO...</td>\n",
       "      <td>2341</td>\n",
       "      <td>12/16/10 19:0912/16/10 19:0912/16/10 19:0912/1...</td>\n",
       "      <td>178.71</td>\n",
       "      <td>1797.24</td>\n",
       "      <td>0.767723</td>\n",
       "    </tr>\n",
       "    <tr>\n",
       "      <th>3</th>\n",
       "      <td>12349.0</td>\n",
       "      <td>Italy</td>\n",
       "      <td>5776095776095776095776095776095776095776095776...</td>\n",
       "      <td>2311223460215642141121563221312219548194849782...</td>\n",
       "      <td>PARISIENNE CURIO CABINETSWEETHEART WALL TIDY P...</td>\n",
       "      <td>631</td>\n",
       "      <td>11/21/11 9:5111/21/11 9:5111/21/11 9:5111/21/1...</td>\n",
       "      <td>605.10</td>\n",
       "      <td>1757.55</td>\n",
       "      <td>2.785341</td>\n",
       "    </tr>\n",
       "    <tr>\n",
       "      <th>4</th>\n",
       "      <td>12350.0</td>\n",
       "      <td>Norway</td>\n",
       "      <td>5430375430375430375430375430375430375430375430...</td>\n",
       "      <td>219082241279066K79191C2234884086C2255122557218...</td>\n",
       "      <td>CHOCOLATE THIS WAY METAL SIGNMETAL SIGN NEIGHB...</td>\n",
       "      <td>197</td>\n",
       "      <td>2/2/11 16:012/2/11 16:012/2/11 16:012/2/11 16:...</td>\n",
       "      <td>65.30</td>\n",
       "      <td>334.40</td>\n",
       "      <td>1.697462</td>\n",
       "    </tr>\n",
       "  </tbody>\n",
       "</table>\n",
       "</div>"
      ],
      "text/plain": [
       "   CustomerID         Country  \\\n",
       "0     12346.0  United Kingdom   \n",
       "1     12347.0         Iceland   \n",
       "2     12348.0         Finland   \n",
       "3     12349.0           Italy   \n",
       "4     12350.0          Norway   \n",
       "\n",
       "                                           InvoiceNo  \\\n",
       "0                                             541431   \n",
       "1  5376265376265376265376265376265376265376265376...   \n",
       "2  5393185393185393185393185393185393185393185393...   \n",
       "3  5776095776095776095776095776095776095776095776...   \n",
       "4  5430375430375430375430375430375430375430375430...   \n",
       "\n",
       "                                           StockCode  \\\n",
       "0                                              23166   \n",
       "1  8511622375714772249222771227722277322774227752...   \n",
       "2  8499222951849918499121213212132261621981219822...   \n",
       "3  2311223460215642141121563221312219548194849782...   \n",
       "4  219082241279066K79191C2234884086C2255122557218...   \n",
       "\n",
       "                                         Description  Quantity  \\\n",
       "0                     MEDIUM CERAMIC TOP STORAGE JAR     74215   \n",
       "1  BLACK CANDELABRA T-LIGHT HOLDERAIRLINE BAG VIN...      2458   \n",
       "2  72 SWEETHEART FAIRY CAKE CASES60 CAKE CASES DO...      2341   \n",
       "3  PARISIENNE CURIO CABINETSWEETHEART WALL TIDY P...       631   \n",
       "4  CHOCOLATE THIS WAY METAL SIGNMETAL SIGN NEIGHB...       197   \n",
       "\n",
       "                                         InvoiceDate  UnitPrice   Revenue  \\\n",
       "0                                      1/18/11 10:01       1.04  77183.60   \n",
       "1  12/7/10 14:5712/7/10 14:5712/7/10 14:5712/7/10...     481.21   4310.00   \n",
       "2  12/16/10 19:0912/16/10 19:0912/16/10 19:0912/1...     178.71   1797.24   \n",
       "3  11/21/11 9:5111/21/11 9:5111/21/11 9:5111/21/1...     605.10   1757.55   \n",
       "4  2/2/11 16:012/2/11 16:012/2/11 16:012/2/11 16:...      65.30    334.40   \n",
       "\n",
       "   AvgPrice  \n",
       "0  1.040000  \n",
       "1  1.753458  \n",
       "2  0.767723  \n",
       "3  2.785341  \n",
       "4  1.697462  "
      ]
     },
     "execution_count": 15,
     "metadata": {},
     "output_type": "execute_result"
    }
   ],
   "source": [
    "df=online_rt.groupby(['CustomerID','Country']).sum().reset_index()\n",
    "df['AvgPrice']=df['Revenue']/df['Quantity']\n",
    "df.head()"
   ]
  },
  {
   "cell_type": "markdown",
   "metadata": {},
   "source": [
    "##### Step 7.3.3 Plot"
   ]
  },
  {
   "cell_type": "code",
   "execution_count": 16,
   "metadata": {},
   "outputs": [
    {
     "data": {
      "image/png": "[encoded data removed]",
      "text/plain": [
       "<Figure size 1200x300 with 3 Axes>"
      ]
     },
     "metadata": {},
     "output_type": "display_data"
    }
   ],
   "source": [
    "fig,axes=plt.subplots(nrows=1,ncols=3,sharey=True,sharex=True,figsize=(12,3))\n",
    "for country,ax in zip(top3,axes):\n",
    "    d=df[df['Country']==country]\n",
    "    ax.scatter(d['Quantity'],d['AvgPrice'])\n",
    "    ax.legend([country])\n",
    "    ax.set_xlabel('Quantity')\n",
    "fig.supylabel('UnitPrice',y=0.6)\n",
    "plt.tight_layout()\n",
    "plt.show()"
   ]
  },
  {
   "cell_type": "markdown",
   "metadata": {},
   "source": [
    "#### Step 7.4 What to do now?\n",
    "We aren't much better-off than what we started with. The data are still extremely scattered around and don't seem quite informative.\n",
    "\n",
    "But we shouldn't despair!\n",
    "There are two things to realize:\n",
    "1) The data seem to be skewed towaards the axes (e.g. we don't have any values where Quantity = 50000 and AvgPrice = 5). So that might suggest a trend.\n",
    "2) We have more data! We've only been looking at the data from 3 different countries and they are plotted on different graphs.\n",
    "\n",
    "So: we should plot the data regardless of `Country` and hopefully see a less scattered graph.\n",
    "\n",
    "##### Step 7.4.1 Plot the data for each `CustomerID` on a single graph"
   ]
  },
  {
   "cell_type": "code",
   "execution_count": 17,
   "metadata": {},
   "outputs": [
    {
     "data": {
      "image/png": "[encoded data removed]",
      "text/plain": [
       "<Figure size 640x480 with 1 Axes>"
      ]
     },
     "metadata": {},
     "output_type": "display_data"
    }
   ],
   "source": [
    "df2=online_rt.groupby('CustomerID').sum()\n",
    "df2['AvgPrice']=df2['Revenue']/df2['Quantity']\n",
    "plt.scatter(df2['Quantity'],df2['AvgPrice'])\n",
    "plt.show()"
   ]
  },
  {
   "cell_type": "markdown",
   "metadata": {},
   "source": [
    "##### Step 7.4.2 Zoom in so we can see that curve more clearly"
   ]
  },
  {
   "cell_type": "code",
   "execution_count": 18,
   "metadata": {},
   "outputs": [
    {
     "data": {
      "image/png": "[encoded data removed]",
      "text/plain": [
       "<Figure size 640x480 with 1 Axes>"
      ]
     },
     "metadata": {},
     "output_type": "display_data"
    }
   ],
   "source": [
    "plt.scatter(df2['Quantity'],df2['AvgPrice'])\n",
    "plt.xlim(-40,2000) \n",
    "plt.ylim(-1,80)\n",
    "plt.show()"
   ]
  },
  {
   "cell_type": "markdown",
   "metadata": {},
   "source": [
    "### 8. Plot a line chart showing revenue (y) per UnitPrice (x).\n",
    "\n",
    "Did Step 7 give us any insights about the data? Sure! As average price increases, the quantity ordered decreses.  But that's hardly surprising. It would be surprising if that wasn't the case!\n",
    "\n",
    "Nevertheless the rate of drop in quantity is so drastic, it makes me wonder how our revenue changes with respect to item price. It would not be that surprising if it didn't change that much. But it would be interesting to know whether most of our revenue comes from expensive or inexpensive items, and how that relation looks like.\n",
    "\n",
    "That is what we are going to do now.\n",
    "\n",
    "#### 8.1 Group `UnitPrice` by intervals of 1 for prices [0,50), and sum `Quantity` and `Revenue`."
   ]
  },
  {
   "cell_type": "code",
   "execution_count": 19,
   "metadata": {},
   "outputs": [
    {
     "name": "stderr",
     "output_type": "stream",
     "text": [
      "C:\\Users\\shich\\AppData\\Local\\Temp\\ipykernel_43236\\3978205703.py:2: FutureWarning: The default of observed=False is deprecated and will be changed to True in a future version of pandas. Pass observed=False to retain current behavior or observed=True to adopt the future default and silence this warning.\n",
      "  df=online_rt.groupby(pd.cut(online_rt['UnitPrice'],bukets))\n"
     ]
    }
   ],
   "source": [
    "bukets=np.arange(0,50,1)\n",
    "df=online_rt.groupby(pd.cut(online_rt['UnitPrice'],bukets))"
   ]
  },
  {
   "cell_type": "code",
   "execution_count": 29,
   "metadata": {},
   "outputs": [
    {
     "data": {
      "text/plain": [
       "0         (2, 3]\n",
       "1         (3, 4]\n",
       "2         (2, 3]\n",
       "3         (3, 4]\n",
       "4         (3, 4]\n",
       "           ...  \n",
       "541904    (0, 1]\n",
       "541905    (2, 3]\n",
       "541906    (4, 5]\n",
       "541907    (4, 5]\n",
       "541908    (4, 5]\n",
       "Name: UnitPrice, Length: 531285, dtype: category\n",
       "Categories (49, interval[int64, right]): [(0, 1] < (1, 2] < (2, 3] < (3, 4] ... (45, 46] < (46, 47] < (47, 48] < (48, 49]]"
      ]
     },
     "execution_count": 29,
     "metadata": {},
     "output_type": "execute_result"
    }
   ],
   "source": [
    "pd.cut(online_rt['UnitPrice'],bukets)"
   ]
  },
  {
   "cell_type": "markdown",
   "metadata": {},
   "source": [
    "#### 8.3 Plot."
   ]
  },
  {
   "cell_type": "code",
   "execution_count": 23,
   "metadata": {},
   "outputs": [
    {
     "data": {
      "text/plain": [
       "<Axes: xlabel='UnitPrice'>"
      ]
     },
     "execution_count": 23,
     "metadata": {},
     "output_type": "execute_result"
    },
    {
     "data": {
      "image/png": "[encoded data removed]",
      "text/plain": [
       "<Figure size 640x480 with 1 Axes>"
      ]
     },
     "metadata": {},
     "output_type": "display_data"
    }
   ],
   "source": [
    "df['Revenue'].sum().plot()"
   ]
  },
  {
   "cell_type": "markdown",
   "metadata": {},
   "source": [
    "#### 8.4 Make it look nicer.\n",
    "x-axis needs values.  \n",
    "y-axis isn't that easy to read; show in terms of millions."
   ]
  },
  {
   "cell_type": "code",
   "execution_count": 28,
   "metadata": {},
   "outputs": [
    {
     "data": {
      "image/png": "[encoded data removed]",
      "text/plain": [
       "<Figure size 640x480 with 1 Axes>"
      ]
     },
     "metadata": {},
     "output_type": "display_data"
    }
   ],
   "source": [
    "df['Revenue'].sum().plot()\n",
    "plt.xlabel('UnitPrice')\n",
    "plt.ylabel('Revenue')\n",
    "plt.xticks(np.arange(0,50,3),np.arange(0,50,3))\n",
    "plt.yticks([0,500000,500000*2,500000*3,500000*4,500000*5],['0','$0.5M','$1M','$1.5M','$2M','$2.5M'])\n",
    "plt.show()"
   ]
  },
  {
   "cell_type": "markdown",
   "metadata": {},
   "source": [
    "### BONUS: Create your own question and answer it."
   ]
  },
  {
   "cell_type": "code",
   "execution_count": null,
   "metadata": {},
   "outputs": [],
   "source": []
  }
 ],
 "metadata": {
  "kernelspec": {
   "display_name": "Python 3 (ipykernel)",
   "language": "python",
   "name": "python3"
  },
  "language_info": {
   "codemirror_mode": {
    "name": "ipython",
    "version": 3
   },
   "file_extension": ".py",
   "mimetype": "text/x-python",
   "name": "python",
   "nbconvert_exporter": "python",
   "pygments_lexer": "ipython3",
   "version": "3.10.13"
  }
 },
 "nbformat": 4,
 "nbformat_minor": 4
}
